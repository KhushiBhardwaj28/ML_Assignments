{
 "cells": [
  {
   "cell_type": "code",
   "execution_count": 1,
   "id": "9d0bcb35",
   "metadata": {},
   "outputs": [],
   "source": [
    "import csv\n",
    "#exception for csv operations\n",
    "class CSVFileError(Exception):\n",
    "    def _init_(self, msg = \"Error occured while processing the CSV File\"):\n",
    "        self.msg = msg\n",
    "        super().__init__(self.msg)"
   ]
  },
  {
   "cell_type": "code",
   "execution_count": 2,
   "id": "11a8020a",
   "metadata": {},
   "outputs": [],
   "source": [
    "# Sample student data\n",
    "data = [\n",
    "    [\"Name\", \"Subject\", \"Marks\"],\n",
    "    [\"Rahul\", \"Discrete Mathematics\", 95],\n",
    "    [\"Ananya\", \"Computer Networks\", 89],\n",
    "    [\"Kiara\", \"Data Structure & Algo\", 78],\n",
    "    [\"Rishabh\", \"OOPs\", 84]\n",
    "]"
   ]
  },
  {
   "cell_type": "code",
   "execution_count": 3,
   "id": "07a2965d",
   "metadata": {},
   "outputs": [
    {
     "name": "stdout",
     "output_type": "stream",
     "text": [
      "CSV FILE 'student_grades.csv' WRITTEN SUCCESSFULLY\n"
     ]
    }
   ],
   "source": [
    "#writing 2d list to a csv file\n",
    "try:\n",
    "    with open(\"student_grades.csv\", mode=\"w\", newline=\"\") as file:\n",
    "        writer = csv.writer(file)\n",
    "        writer.writerows(data)\n",
    "    print(\"CSV FILE 'student_grades.csv' WRITTEN SUCCESSFULLY\")\n",
    "except Exception as e:\n",
    "    raise CSVFileError(f\" FAILED TO WRITE CSV: {e}\")"
   ]
  },
  {
   "cell_type": "code",
   "execution_count": 4,
   "id": "a51203f7",
   "metadata": {},
   "outputs": [
    {
     "name": "stdout",
     "output_type": "stream",
     "text": [
      "READING CSV CONTENT:\n",
      "['Name', 'Subject', 'Marks']\n",
      "['Rahul', 'Discrete Mathematics', '95']\n",
      "['Ananya', 'Computer Networks', '89']\n",
      "['Kiara', 'Data Structure & Algo', '78']\n",
      "['Rishabh', 'OOPs', '84']\n"
     ]
    }
   ],
   "source": [
    "#Reading the csv file and displaying its contents\n",
    "try:\n",
    "    with open(\"student_grades.csv\", mode = \"r\") as file:\n",
    "        reader = csv.reader(file)\n",
    "        print(\"READING CSV CONTENT:\")\n",
    "        for row in reader:\n",
    "            print(row)\n",
    "except Exception as e:\n",
    "    raise CSVFileError(f\" FAILED TO READ CSV: {e}\")"
   ]
  }
 ],
 "metadata": {
  "kernelspec": {
   "display_name": "Python 3",
   "language": "python",
   "name": "python3"
  },
  "language_info": {
   "codemirror_mode": {
    "name": "ipython",
    "version": 3
   },
   "file_extension": ".py",
   "mimetype": "text/x-python",
   "name": "python",
   "nbconvert_exporter": "python",
   "pygments_lexer": "ipython3",
   "version": "3.12.1"
  }
 },
 "nbformat": 4,
 "nbformat_minor": 5
}
