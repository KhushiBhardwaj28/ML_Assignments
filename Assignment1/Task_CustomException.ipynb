{
 "cells": [
  {
   "cell_type": "code",
   "execution_count": null,
   "id": "22028ba6",
   "metadata": {},
   "outputs": [],
   "source": [
    "#Custom Exception: UnderAgeError\n",
    "class UnderAgeError(Exception):\n",
    "    def __init__(self, msg = \"User under 18! Not eligible to vote.\"):\n",
    "        self.msg = msg\n",
    "        super().__init__(msg)"
   ]
  },
  {
   "cell_type": "code",
   "execution_count": 8,
   "id": "92f23e99",
   "metadata": {},
   "outputs": [],
   "source": [
    "def check_eligibility(age) :\n",
    "    if age<18:\n",
    "        raise UnderAgeError()\n",
    "    else:\n",
    "        print(\"Eligible to vote!\")"
   ]
  },
  {
   "cell_type": "code",
   "execution_count": 9,
   "id": "60dafe0b",
   "metadata": {},
   "outputs": [
    {
     "name": "stdout",
     "output_type": "stream",
     "text": [
      "Voting Eligibility Checker\n",
      "Use under 18! Not eligible to vote.\n",
      "Thank you for using the Voting Checker.\n"
     ]
    }
   ],
   "source": [
    "print(\"Voting Eligibility Checker\")\n",
    "try: \n",
    "    age = int(input(\"Enter Your Age\"))\n",
    "    check_eligibility(age)\n",
    "except UnderAgeError as e:\n",
    "    print(e)\n",
    "except ValueError:\n",
    "    print(\"Invalid input. Please enter a valid number!\")\n",
    "finally:\n",
    "    print(\"Thank you for using the Voting Checker.\")"
   ]
  }
 ],
 "metadata": {
  "kernelspec": {
   "display_name": "Python 3",
   "language": "python",
   "name": "python3"
  },
  "language_info": {
   "codemirror_mode": {
    "name": "ipython",
    "version": 3
   },
   "file_extension": ".py",
   "mimetype": "text/x-python",
   "name": "python",
   "nbconvert_exporter": "python",
   "pygments_lexer": "ipython3",
   "version": "3.12.1"
  }
 },
 "nbformat": 4,
 "nbformat_minor": 5
}
