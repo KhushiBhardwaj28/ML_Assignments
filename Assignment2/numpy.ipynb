{
 "cells": [
  {
   "cell_type": "code",
   "execution_count": null,
   "id": "e2b52d05",
   "metadata": {},
   "outputs": [],
   "source": [
    "import numpy as np\n",
    "#1D array\n",
    "arr1 = np.arange(1, 11)\n",
    "#2D array\n",
    "arr2 = np.arange(1, 10).reshape(3, 3)\n",
    "#3D array with random floats\n",
    "arr3 = np.random.rand(3, 5, 3)\n",
    "#Display shape, size, and data type\n",
    "for i, arr in enumerate([arr1, arr2, arr3], start=1):\n",
    "    print(f\"Array {i}:\\n{arr}\")\n",
    "    print(f\"Shape: {arr.shape}, Size: {arr.size}, Dtype: {arr.dtype}\\n\")\n"
   ]
  },
  {
   "cell_type": "code",
   "execution_count": null,
   "id": "c88eb05e",
   "metadata": {},
   "outputs": [],
   "source": [
    "#indexing\n",
    "print(\"Element at index 3 in arr1:\", arr1[3])\n",
    "\n",
    "#slicing\n",
    "print(\"First 5 elements of arr1:\", arr1[:5])\n",
    "\n",
    "#Accessing specific row and column in 2D array\n",
    "print(\"Second row of arr2:\", arr2[1])\n",
    "print(\"Element at (2,2):\", arr2[1, 1])\n",
    "\n",
    "#Slicing 3D array\n",
    "print(\"First matrix in arr3:\\n\", arr3[0])\n"
   ]
  },
  {
   "cell_type": "code",
   "execution_count": null,
   "id": "68ce9a4b",
   "metadata": {},
   "outputs": [],
   "source": [
    "#Adding  5 to all elements\n",
    "print(\"arr1 + 5:\\n\", arr1 + 5)\n",
    "\n",
    "#Multiplying arr2 by 2\n",
    "print(\"arr2 * 2:\\n\", arr2 * 2)\n",
    "\n",
    "#Element-wise addition of 2 arrays of same shape\n",
    "a = np.array([1, 2, 3])\n",
    "b = np.array([4, 5, 6])\n",
    "print(\"a + b:\", a + b)"
   ]
  },
  {
   "cell_type": "code",
   "execution_count": null,
   "id": "1e59ea6c",
   "metadata": {},
   "outputs": [],
   "source": [
    "print(\"Mean of arr1:\", np.mean(arr1))\n",
    "print(\"Median of arr1:\", np.median(arr1))\n",
    "print(\"Standard deviation of arr1:\", np.std(arr1))\n"
   ]
  },
  {
   "cell_type": "code",
   "execution_count": null,
   "id": "12a06e38",
   "metadata": {},
   "outputs": [],
   "source": [
    "A = np.array([[1, 2], [7, 9]])\n",
    "B = np.array([[5, 6], [4, 8]])\n",
    "result = np.dot(A, B)\n",
    "print(\"Matrix multiplication:\\n\", result)\n"
   ]
  },
  {
   "cell_type": "code",
   "execution_count": null,
   "id": "d54dfabe",
   "metadata": {},
   "outputs": [],
   "source": [
    "np.random.seed(42)  # for reproducibility (optional)\n",
    "A = np.random.randint(1, 21, 5)\n",
    "B = np.random.randint(1, 21, 5)\n",
    "\n",
    "print(\"Array A:\", A)\n",
    "print(\"Array B:\", B)\n",
    "max_val = np.max(B)\n",
    "min_val = np.min(B)\n",
    "max_index = np.argmax(B)\n",
    "min_index = np.argmin(B)\n",
    "\n",
    "print(\"Maximum in B:\", max_val, \"at index\", max_index)\n",
    "print(\"Minimum in B:\", min_val, \"at index\", min_index)"
   ]
  },
  {
   "cell_type": "code",
   "execution_count": null,
   "id": "425f1490",
   "metadata": {},
   "outputs": [],
   "source": [
    "\n",
    "\n",
    "#original 1D array with 12 elements\n",
    "arr = np.arange(1, 13)\n",
    "print(\"Original array:\\n\", arr)\n",
    "\n",
    "#reshape into a 2D array of shape (4, 3)\n",
    "arr_2d = arr.reshape(4, 3)\n",
    "print(\"\\nReshaped to 2D (4, 3):\\n\", arr_2d)\n",
    "\n",
    "#reshape into a 3D array of shape (2, 2, 3)\n",
    "arr_3d = arr.reshape(2, 2, 3)\n",
    "print(\"\\nReshaped to 3D (2, 2, 3):\\n\", arr_3d)\n",
    "\n",
    "#transpose the 2D array\n",
    "arr_2d_transposed = arr_2d.T\n",
    "print(\"\\nTransposed 2D array:\\n\", arr_2d_transposed)\n",
    "\n",
    "# Display shape of transposed array\n",
    "print(\"Shape of transposed 2D array:\", arr_2d_transposed.shape)\n"
   ]
  },
  {
   "cell_type": "code",
   "execution_count": null,
   "id": "dc5f6fd3",
   "metadata": {},
   "outputs": [],
   "source": [
    "#1.Create a NumPy array with 15 random integers between 10 and 50\n",
    "np.random.seed(7)  # Optional: for reproducible results\n",
    "arr = np.random.randint(10, 51, size=15)\n",
    "print(\"Original Array:\\n\", arr)\n",
    "#2a.Find all elements greater than 25\n",
    "great = arr[arr > 25]\n",
    "print(\"Elements greater than 25:\\n\", great)\n",
    "#2b.Replace all elements less than 30 with 0\n",
    "arr_r = np.where(arr < 30, 0, arr)\n",
    "print(\"Array with elements < 30 replaced with 0:\\n\", arr_r)\n",
    "#2c.Count number of elements divisible by 5\n",
    "cdiv = np.sum(arr % 5 == 0)\n",
    "print(\"Number of elements divisible by 5:\", cdiv)\n",
    "\n",
    "\n"
   ]
  },
  {
   "cell_type": "code",
   "execution_count": null,
   "id": "6a2c88cd",
   "metadata": {},
   "outputs": [],
   "source": [
    "#array of 10 equally spaced values between 0 and 1\n",
    "equalSp = np.linspace(0, 1, 10)\n",
    "print(\"10 equally spaced values between 0 and 1:\\n\", equalSp)\n",
    "#4x4 identity matrix\n",
    "identityy = np.identity(4)\n",
    "print(\"\\n4x4 Identity Matrix:\\n\", identityy)\n",
    "#1D array of 20 random integers between 1 and 100\n",
    "randAr = np.random.randint(1, 101, size=20)\n",
    "print(\"\\nOriginal random array:\\n\", randAr)\n",
    "\n",
    "#sortarray\n",
    "sortedA = np.sort(randAr)\n",
    "print(\"\\nSorted array:\\n\", sortedA)\n",
    "\n",
    "#5 largest elements\n",
    "top_5 = sortedA[-5:]\n",
    "print(\"\\nTop 5 largest elements:\\n\", top_5)\n",
    "\n"
   ]
  },
  {
   "cell_type": "code",
   "execution_count": 24,
   "id": "a6fb6811",
   "metadata": {},
   "outputs": [
    {
     "name": "stdout",
     "output_type": "stream",
     "text": [
      "Inverse successfully computed.\n",
      "\n",
      "Matrix multiplication time: 0.005233 seconds\n",
      "Determinant calculation time: 0.000638 seconds\n",
      "Inverse calculation time: 0.254179 seconds\n",
      "Total time: 0.260050 seconds\n",
      "\n",
      "Determinant of the product matrix: 6.0159e+50\n"
     ]
    }
   ],
   "source": [
    "\n",
    "import time\n",
    "\n",
    "#Set random seed for reproducibility (optional)\n",
    "np.random.seed(0)\n",
    "\n",
    "#two large random arrays of size (100, 100)\n",
    "A = np.random.rand(100, 100)\n",
    "B = np.random.rand(100, 100)\n",
    "\n",
    "#Start timing\n",
    "start_time = time.time()\n",
    "\n",
    "#Matrix multiplication\n",
    "product = np.dot(A, B)\n",
    "\n",
    "#Time after multiplication\n",
    "after_mult = time.time()\n",
    "\n",
    "#determinant\n",
    "det = np.linalg.det(product)\n",
    "\n",
    "#Time after determinant\n",
    "after_det = time.time()\n",
    "\n",
    "#inverse if determinant is not zero\n",
    "if det != 0:\n",
    "    inverse = np.linalg.inv(product)\n",
    "    after_inv = time.time()\n",
    "    print(\"Inverse successfully computed.\")\n",
    "else:\n",
    "    inverse = None\n",
    "    after_inv = after_det\n",
    "    print(\"Matrix is singular; inverse not possible.\")\n",
    "\n",
    "#Print\n",
    "print(f\"\\nMatrix multiplication time: {after_mult - start_time:.6f} seconds\")\n",
    "print(f\"Determinant calculation time: {after_det - after_mult:.6f} seconds\")\n",
    "print(f\"Inverse calculation time: {after_inv - after_det:.6f} seconds\")\n",
    "print(f\"Total time: {after_inv - start_time:.6f} seconds\")\n",
    "\n",
    "#determinant value\n",
    "print(f\"\\nDeterminant of the product matrix: {det:.4e}\")\n"
   ]
  }
 ],
 "metadata": {
  "kernelspec": {
   "display_name": "Python 3",
   "language": "python",
   "name": "python3"
  },
  "language_info": {
   "codemirror_mode": {
    "name": "ipython",
    "version": 3
   },
   "file_extension": ".py",
   "mimetype": "text/x-python",
   "name": "python",
   "nbconvert_exporter": "python",
   "pygments_lexer": "ipython3",
   "version": "3.13.2"
  }
 },
 "nbformat": 4,
 "nbformat_minor": 5
}
